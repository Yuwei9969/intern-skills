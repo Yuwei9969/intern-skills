{
 "cells": [
  {
   "cell_type": "markdown",
   "id": "0",
   "metadata": {},
   "source": [
    "# Train A Shape Classifier Model\n",
    "\n"
   ]
  },
  {
   "cell_type": "code",
   "execution_count": 4,
   "id": "1",
   "metadata": {
    "ExecuteTime": {
     "end_time": "2025-03-04T04:02:40.082786Z",
     "start_time": "2025-03-04T04:02:40.079661Z"
    }
   },
   "outputs": [],
   "source": [
    "import json\n",
    "import os\n",
    "\n",
    "train_data_root = \"../datasets/train\"\n",
    "test_data_root = \"../datasets/test\""
   ]
  },
  {
   "cell_type": "code",
   "execution_count": 11,
   "id": "2",
   "metadata": {
    "ExecuteTime": {
     "end_time": "2025-03-04T04:09:32.757207Z",
     "start_time": "2025-03-04T04:09:32.719907Z"
    }
   },
   "outputs": [
    {
     "name": "stdout",
     "output_type": "stream",
     "text": [
      "Classes: ['circle', 'diamond', 'triangle']\n"
     ]
    }
   ],
   "source": [
    "import torch\n",
    "import torch.nn as nn\n",
    "import torch.optim as optim\n",
    "import torch.nn.functional as F\n",
    "from torchvision import datasets, transforms\n",
    "from torch.utils.data import DataLoader\n",
    "import os\n",
    "\n",
    "# Set device\n",
    "device = torch.device(\"cuda\" if torch.cuda.is_available() else \"cpu\")\n",
    "\n",
    "# Define transformations (including resizing and normalization)\n",
    "transform = transforms.Compose([\n",
    "    transforms.Grayscale(num_output_channels=1),  # Convert to grayscale (black and white images)\n",
    "    transforms.Resize((64, 64)),  # Resize images to 64x64 pixels\n",
    "    transforms.ToTensor(),  # Convert the image to a tensor\n",
    "    transforms.Normalize((0.5,), (0.5,))  # Normalize the images (mean=0.5, std=0.5 for grayscale)\n",
    "])\n",
    "\n",
    "# Load the dataset\n",
    "train_dataset = datasets.ImageFolder(root=train_data_root, transform=transform)\n",
    "test_dataset = datasets.ImageFolder(root=test_data_root, transform=transform)\n",
    "\n",
    "train_loader = DataLoader(train_dataset, batch_size=32, shuffle=True)\n",
    "test_loader = DataLoader(test_dataset, batch_size=32, shuffle=False)\n",
    "\n",
    "# Check class names (optional)\n",
    "print(f'Classes: {train_dataset.classes}')\n",
    "\n",
    "# 2. Define a simple CNN model\n",
    "class SimpleCNN(nn.Module):\n",
    "    def __init__(self):\n",
    "        super(SimpleCNN, self).__init__()\n",
    "        self.conv1 = nn.Conv2d(1, 32, kernel_size=3, padding=1)\n",
    "        self.conv2 = nn.Conv2d(32, 32, kernel_size=3, padding=1)\n",
    "        self.fc1 = nn.Linear(32 * 16 * 16, 128)\n",
    "        self.fc2 = nn.Linear(128, 3)  # 3 classes: circle, triangle, rectangle\n",
    "        \n",
    "    def forward(self, x):\n",
    "        x = F.relu(self.conv1(x))   # First Conv Layer\n",
    "        x = F.max_pool2d(x, 2)      # Max Pooling\n",
    "        x = F.relu(self.conv2(x))   # Second Conv Layer\n",
    "        x = F.max_pool2d(x, 2)      # Max Pooling\n",
    "        x = x.view(x.size(0), -1)   # Flatten\n",
    "        x = F.relu(self.fc1(x))     # Fully Connected Layer 1\n",
    "        x = self.fc2(x)             # Fully Connected Layer 2 (output)\n",
    "        return x\n",
    "\n",
    "model = SimpleCNN().to(device)\n",
    "criterion = nn.CrossEntropyLoss()\n",
    "optimizer = optim.Adam(model.parameters(), lr=0.001)\n",
    "\n",
    "def train_model(model, train_loader, criterion, optimizer, epochs=10):\n",
    "    model.train()\n",
    "    for epoch in range(epochs):\n",
    "        running_loss = 0.0\n",
    "        correct = 0\n",
    "        total = 0\n",
    "        for images, labels in train_loader:\n",
    "            images, labels = images.to(device), labels.to(device)\n",
    "            \n",
    "            # Zero the parameter gradients\n",
    "            optimizer.zero_grad()\n",
    "            \n",
    "            # Forward pass\n",
    "            outputs = model(images)\n",
    "            loss = criterion(outputs, labels)\n",
    "            \n",
    "            # Backward pass and optimize\n",
    "            loss.backward()\n",
    "            optimizer.step()\n",
    "            \n",
    "            # Statistics\n",
    "            running_loss += loss.item()\n",
    "            _, predicted = torch.max(outputs, 1)\n",
    "            total += labels.size(0)\n",
    "            correct += (predicted == labels).sum().item()\n",
    "        \n",
    "        accuracy = correct / total\n",
    "        print(f'Epoch [{epoch+1}/{epochs}], Loss: {running_loss/len(train_loader):.4f}, Accuracy: {accuracy:.2f}')\n"
   ]
  },
  {
   "cell_type": "markdown",
   "id": "3",
   "metadata": {},
   "source": [
    "# Train"
   ]
  },
  {
   "cell_type": "code",
   "execution_count": 12,
   "id": "4",
   "metadata": {
    "ExecuteTime": {
     "end_time": "2025-03-04T04:11:30.924582Z",
     "start_time": "2025-03-04T04:09:38.042401Z"
    }
   },
   "outputs": [
    {
     "name": "stdout",
     "output_type": "stream",
     "text": [
      "Epoch [1/15], Loss: 1.1029, Accuracy: 0.35\n",
      "Epoch [2/15], Loss: 1.0133, Accuracy: 0.47\n",
      "Epoch [3/15], Loss: 0.8998, Accuracy: 0.57\n",
      "Epoch [4/15], Loss: 0.7890, Accuracy: 0.66\n",
      "Epoch [5/15], Loss: 0.5825, Accuracy: 0.80\n",
      "Epoch [6/15], Loss: 0.3724, Accuracy: 0.86\n",
      "Epoch [7/15], Loss: 0.2382, Accuracy: 0.92\n",
      "Epoch [8/15], Loss: 0.1554, Accuracy: 0.95\n",
      "Epoch [9/15], Loss: 0.0968, Accuracy: 0.97\n",
      "Epoch [10/15], Loss: 0.0688, Accuracy: 0.99\n",
      "Epoch [11/15], Loss: 0.0459, Accuracy: 0.99\n",
      "Epoch [12/15], Loss: 0.0304, Accuracy: 1.00\n",
      "Epoch [13/15], Loss: 0.0148, Accuracy: 1.00\n",
      "Epoch [14/15], Loss: 0.0091, Accuracy: 1.00\n",
      "Epoch [15/15], Loss: 0.0064, Accuracy: 1.00\n"
     ]
    }
   ],
   "source": [
    "train_model(model, train_loader, criterion, optimizer, epochs=15)"
   ]
  },
  {
   "cell_type": "markdown",
   "id": "5",
   "metadata": {},
   "source": [
    "# Test "
   ]
  },
  {
   "cell_type": "code",
   "execution_count": 20,
   "id": "6",
   "metadata": {
    "ExecuteTime": {
     "end_time": "2025-03-04T04:17:56.637178Z",
     "start_time": "2025-03-04T04:17:55.565460Z"
    }
   },
   "outputs": [
    {
     "name": "stdout",
     "output_type": "stream",
     "text": [
      "Test Acuracy: 0.78\n"
     ]
    }
   ],
   "source": [
    "def test(model, test_loader):\n",
    "    \"\"\"Print the Precision, Recall and F1-score for the trained model\n",
    "    \"\"\"\n",
    "    model.eval()\n",
    "    correct = 0\n",
    "    total = 0\n",
    "    \n",
    "    \n",
    "    with torch.no_grad():\n",
    "        for images, labels in test_loader:\n",
    "            images, labels = images.to(device), labels.to(device)\n",
    "            outputs = model(images)\n",
    "            _, predicted = torch.max(outputs,1)\n",
    "            total += labels.size(0)\n",
    "            correct += (predicted == labels).sum().item()\n",
    "            \n",
    "            \n",
    "    accuracy = correct / total\n",
    "        \n",
    "    print(f\"Test Acuracy: {accuracy:.2f}\")\n",
    "    \n",
    "\n",
    "\n",
    "\n",
    "test(model, test_loader)\n"
   ]
  },
  {
   "cell_type": "markdown",
   "id": "7",
   "metadata": {},
   "source": [
    "# Show Predictions\n"
   ]
  },
  {
   "cell_type": "code",
   "execution_count": 31,
   "id": "8",
   "metadata": {
    "ExecuteTime": {
     "end_time": "2025-03-04T04:34:21.855868Z",
     "start_time": "2025-03-04T04:34:21.484465Z"
    }
   },
   "outputs": [
    {
     "ename": "TypeError",
     "evalue": "only integer tensors of a single element can be converted to an index",
     "output_type": "error",
     "traceback": [
      "\u001B[0;31m---------------------------------------------------------------------------\u001B[0m",
      "\u001B[0;31mTypeError\u001B[0m                                 Traceback (most recent call last)",
      "Cell \u001B[0;32mIn[31], line 36\u001B[0m\n\u001B[1;32m     32\u001B[0m         axes[i]\u001B[38;5;241m.\u001B[39maxis(\u001B[38;5;124m'\u001B[39m\u001B[38;5;124moff\u001B[39m\u001B[38;5;124m'\u001B[39m)\n\u001B[1;32m     34\u001B[0m     plt\u001B[38;5;241m.\u001B[39mshow()\n\u001B[0;32m---> 36\u001B[0m show_prediction(model, test_loader)\n",
      "Cell \u001B[0;32mIn[31], line 31\u001B[0m, in \u001B[0;36mshow_prediction\u001B[0;34m(model, image)\u001B[0m\n\u001B[1;32m     28\u001B[0m     img \u001B[38;5;241m=\u001B[39m image[i]\u001B[38;5;241m.\u001B[39mcpu()\u001B[38;5;241m.\u001B[39mnumpy()\u001B[38;5;241m.\u001B[39msqueeze()\n\u001B[1;32m     29\u001B[0m     axes[i]\u001B[38;5;241m.\u001B[39mimshow(img)\n\u001B[0;32m---> 31\u001B[0m     axes[i]\u001B[38;5;241m.\u001B[39mset_title(\u001B[38;5;124mf\u001B[39m\u001B[38;5;124m\"\u001B[39m\u001B[38;5;124mPredicted:\u001B[39m\u001B[38;5;132;01m{\u001B[39;00mtrain_dataset\u001B[38;5;241m.\u001B[39mclasses[predicted]\u001B[38;5;132;01m}\u001B[39;00m\u001B[38;5;130;01m\\n\u001B[39;00m\u001B[38;5;124mActual:\u001B[39m\u001B[38;5;132;01m{\u001B[39;00mtrain_dataset\u001B[38;5;241m.\u001B[39mclasses[i]\u001B[38;5;132;01m}\u001B[39;00m\u001B[38;5;124m\"\u001B[39m)\n\u001B[1;32m     32\u001B[0m     axes[i]\u001B[38;5;241m.\u001B[39maxis(\u001B[38;5;124m'\u001B[39m\u001B[38;5;124moff\u001B[39m\u001B[38;5;124m'\u001B[39m)\n\u001B[1;32m     34\u001B[0m plt\u001B[38;5;241m.\u001B[39mshow()\n",
      "\u001B[0;31mTypeError\u001B[0m: only integer tensors of a single element can be converted to an index"
     ]
    },
    {
     "data": {
      "text/plain": "<Figure size 1000x200 with 3 Axes>",
      "image/png": "[encoded data removed]"
     },
     "metadata": {},
     "output_type": "display_data"
    }
   ],
   "source": [
    "import matplotlib.pyplot as plt \n",
    "import numpy as np\n",
    "\n",
    "def show_prediction(model, image):\n",
    "    \"\"\"Pass the image to the model and overlay the predicted shape and confidence on the input\n",
    "    image and display it\n",
    "    \"\"\"\n",
    "    \n",
    "    \n",
    "    model.eval()\n",
    "    \n",
    "    \n",
    "    image, label = next(iter(test_loader))\n",
    "    image, label = image.to(device), label.to(device)\n",
    "    \n",
    "    \n",
    "    #model prediction \n",
    "    \n",
    "    with torch.no_grad():\n",
    "        output = model.forward(image)\n",
    "        _, predicted = torch.max(output, 1)\n",
    "        \n",
    "        \n",
    "        \n",
    "    fig, axes = plt.subplots(nrows=1, ncols=3, figsize=(10,2))\n",
    "    for i in range(3):\n",
    "        \n",
    "        img = image[i].cpu().numpy().squeeze()\n",
    "        axes[i].imshow(img)\n",
    "        \n",
    "        axes[i].set_title(f\"Predicted:{train_dataset.classes[predicted]}\\nActual:{train_dataset.classes[i]}\")\n",
    "        axes[i].axis('off')\n",
    "    \n",
    "    plt.show()\n",
    "    \n",
    "show_prediction(model, test_loader)"
   ]
  },
  {
   "cell_type": "code",
   "outputs": [],
   "source": [],
   "metadata": {
    "collapsed": false
   },
   "id": "4fe5bb873945bd08"
  }
 ],
 "metadata": {
  "kernelspec": {
   "display_name": "Python 3 (ipykernel)",
   "language": "python",
   "name": "python3"
  },
  "language_info": {
   "codemirror_mode": {
    "name": "ipython",
    "version": 3
   },
   "file_extension": ".py",
   "mimetype": "text/x-python",
   "name": "python",
   "nbconvert_exporter": "python",
   "pygments_lexer": "ipython3",
   "version": "3.11.8"
  }
 },
 "nbformat": 4,
 "nbformat_minor": 5
}
